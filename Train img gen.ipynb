{
 "cells": [
  {
   "attachments": {},
   "cell_type": "markdown",
   "metadata": {},
   "source": [
    "You need to download Train and Validation Data then unzip it and put them into Data folder\n",
    "- Data :\n",
    "    - horse-or-human\n",
    "      - horses\n",
    "      - humans\n",
    "    - validation-horse-or-human\n",
    "      - horses\n",
    "      - humans\n",
    "\n",
    "DataSources\n",
    "\n",
    "- horse-or-human  https://storage.googleapis.com/tensorflow-1-public/course2/week3/horse-or-human.zip  \n",
    "\n",
    "- validation-horse-or-human https://storage.googleapis.com/tensorflow-1-public/course2/week3/validation-horse-or-human.zip\n"
   ]
  },
  {
   "cell_type": "code",
   "execution_count": 44,
   "metadata": {},
   "outputs": [],
   "source": [
    "import numpy as np\n",
    "import PIL.Image as PIL\n",
    "import tensorflow as tf\n",
    "from tensorflow import keras as ks"
   ]
  },
  {
   "cell_type": "code",
   "execution_count": 45,
   "metadata": {},
   "outputs": [
    {
     "name": "stdout",
     "output_type": "stream",
     "text": [
      "Found 1027 images belonging to 2 classes.\n",
      "Found 256 images belonging to 2 classes.\n"
     ]
    }
   ],
   "source": [
    "train_dataGen = ks.preprocessing.image.ImageDataGenerator(rescale=1/255)\n",
    "Train_data = train_dataGen.flow_from_directory(\n",
    "    directory=\"./Data/horse-or-human/\",\n",
    "    batch_size=128,\n",
    "    target_size=(300 ,300),\n",
    "    class_mode=\"binary\"\n",
    ")\n",
    "\n",
    "validation_dataGen = ks.preprocessing.image.ImageDataGenerator(rescale=1/255)\n",
    "Validation_data = validation_dataGen.flow_from_directory(\n",
    "    directory=\"./Data/validation-horse-or-human/\",\n",
    "    batch_size=32,\n",
    "    target_size=(300 ,300),\n",
    "    class_mode=\"binary\"\n",
    ")"
   ]
  },
  {
   "cell_type": "code",
   "execution_count": 50,
   "metadata": {},
   "outputs": [
    {
     "name": "stdout",
     "output_type": "stream",
     "text": [
      "Model: \"sequential_11\"\n",
      "_________________________________________________________________\n",
      " Layer (type)                Output Shape              Param #   \n",
      "=================================================================\n",
      " conv2d_31 (Conv2D)          (None, 298, 298, 16)      448       \n",
      "                                                                 \n",
      " max_pooling2d_30 (MaxPoolin  (None, 149, 149, 16)     0         \n",
      " g2D)                                                            \n",
      "                                                                 \n",
      " conv2d_32 (Conv2D)          (None, 147, 147, 32)      4640      \n",
      "                                                                 \n",
      " max_pooling2d_31 (MaxPoolin  (None, 73, 73, 32)       0         \n",
      " g2D)                                                            \n",
      "                                                                 \n",
      " conv2d_33 (Conv2D)          (None, 71, 71, 64)        18496     \n",
      "                                                                 \n",
      " max_pooling2d_32 (MaxPoolin  (None, 35, 35, 64)       0         \n",
      " g2D)                                                            \n",
      "                                                                 \n",
      " conv2d_34 (Conv2D)          (None, 33, 33, 64)        36928     \n",
      "                                                                 \n",
      " max_pooling2d_33 (MaxPoolin  (None, 16, 16, 64)       0         \n",
      " g2D)                                                            \n",
      "                                                                 \n",
      " conv2d_35 (Conv2D)          (None, 14, 14, 64)        36928     \n",
      "                                                                 \n",
      " max_pooling2d_34 (MaxPoolin  (None, 7, 7, 64)         0         \n",
      " g2D)                                                            \n",
      "                                                                 \n",
      " flatten_8 (Flatten)         (None, 3136)              0         \n",
      "                                                                 \n",
      " dense_20 (Dense)            (None, 254)               796798    \n",
      "                                                                 \n",
      " dense_21 (Dense)            (None, 1)                 255       \n",
      "                                                                 \n",
      "=================================================================\n",
      "Total params: 894,493\n",
      "Trainable params: 894,493\n",
      "Non-trainable params: 0\n",
      "_________________________________________________________________\n"
     ]
    }
   ],
   "source": [
    "model = ks.models.Sequential([\n",
    "    ks.Input((300,300,3)),\n",
    "    ks.layers.Conv2D(16 , (3,3) , activation=\"leaky_relu\"),\n",
    "    ks.layers.MaxPool2D(),\n",
    "    ks.layers.Conv2D(32 , (3,3) , activation=\"leaky_relu\"),\n",
    "    ks.layers.MaxPool2D(),\n",
    "    ks.layers.Conv2D(64 , (3,3) , activation=\"leaky_relu\"),\n",
    "    ks.layers.MaxPool2D(),\n",
    "    ks.layers.Conv2D(64 , (3,3) , activation=\"leaky_relu\"),\n",
    "    ks.layers.MaxPool2D(),\n",
    "    ks.layers.Conv2D(64 , (3,3) , activation=\"leaky_relu\"),\n",
    "    ks.layers.MaxPool2D(),\n",
    "    ks.layers.Flatten(),\n",
    "    ks.layers.Dense(254 , activation=\"leaky_relu\"),\n",
    "    ks.layers.Dense(1 , activation=\"sigmoid\")\n",
    "])\n",
    "model.summary()"
   ]
  },
  {
   "cell_type": "code",
   "execution_count": 51,
   "metadata": {},
   "outputs": [],
   "source": [
    "model.compile(optimizer=ks.optimizers.RMSprop(learning_rate=0.001) , loss=ks.losses.binary_crossentropy , metrics=[\"accuracy\"])"
   ]
  },
  {
   "cell_type": "code",
   "execution_count": 52,
   "metadata": {},
   "outputs": [
    {
     "name": "stderr",
     "output_type": "stream",
     "text": [
      "C:\\Users\\Computer.Kosar\\AppData\\Local\\Temp\\ipykernel_8976\\36450168.py:1: UserWarning: `Model.fit_generator` is deprecated and will be removed in a future version. Please use `Model.fit`, which supports generators.\n",
      "  hist = model.fit_generator(Train_data ,\n"
     ]
    },
    {
     "name": "stdout",
     "output_type": "stream",
     "text": [
      "Epoch 1/15\n",
      "8/8 [==============================] - 16s 2s/step - loss: 1.2274 - accuracy: 0.5017 - val_loss: 0.6930 - val_accuracy: 0.5000\n",
      "Epoch 2/15\n",
      "8/8 [==============================] - 15s 2s/step - loss: 0.6063 - accuracy: 0.7620 - val_loss: 1.3039 - val_accuracy: 0.5000\n",
      "Epoch 3/15\n",
      "8/8 [==============================] - 16s 2s/step - loss: 0.5767 - accuracy: 0.7158 - val_loss: 0.4997 - val_accuracy: 0.8125\n",
      "Epoch 4/15\n",
      "8/8 [==============================] - 15s 2s/step - loss: 0.4057 - accuracy: 0.8087 - val_loss: 0.5033 - val_accuracy: 0.8477\n",
      "Epoch 5/15\n",
      "8/8 [==============================] - 15s 2s/step - loss: 0.4688 - accuracy: 0.7486 - val_loss: 0.8913 - val_accuracy: 0.8359\n",
      "Epoch 6/15\n",
      "8/8 [==============================] - 15s 2s/step - loss: 0.5580 - accuracy: 0.7953 - val_loss: 0.8436 - val_accuracy: 0.8008\n",
      "Epoch 7/15\n",
      "8/8 [==============================] - 15s 2s/step - loss: 0.1336 - accuracy: 0.9544 - val_loss: 1.4560 - val_accuracy: 0.8438\n",
      "Epoch 8/15\n",
      "8/8 [==============================] - 15s 2s/step - loss: 0.2471 - accuracy: 0.9077 - val_loss: 0.3999 - val_accuracy: 0.8750\n",
      "Epoch 9/15\n",
      "8/8 [==============================] - 15s 2s/step - loss: 0.3460 - accuracy: 0.8565 - val_loss: 1.4813 - val_accuracy: 0.7852\n",
      "Epoch 10/15\n",
      "8/8 [==============================] - 15s 2s/step - loss: 0.1258 - accuracy: 0.9511 - val_loss: 3.3622 - val_accuracy: 0.6406\n",
      "Epoch 11/15\n",
      "8/8 [==============================] - 15s 2s/step - loss: 0.1407 - accuracy: 0.9566 - val_loss: 1.3941 - val_accuracy: 0.8125\n",
      "Epoch 12/15\n",
      "8/8 [==============================] - 16s 2s/step - loss: 0.0581 - accuracy: 0.9795 - val_loss: 1.2860 - val_accuracy: 0.8359\n",
      "Epoch 13/15\n",
      "8/8 [==============================] - 16s 2s/step - loss: 0.0408 - accuracy: 0.9854 - val_loss: 3.2402 - val_accuracy: 0.6758\n",
      "Epoch 14/15\n",
      "8/8 [==============================] - 15s 2s/step - loss: 1.1313 - accuracy: 0.8198 - val_loss: 1.8406 - val_accuracy: 0.7969\n",
      "Epoch 15/15\n",
      "8/8 [==============================] - 15s 2s/step - loss: 0.0710 - accuracy: 0.9700 - val_loss: 1.7837 - val_accuracy: 0.8242\n"
     ]
    }
   ],
   "source": [
    "hist = model.fit_generator(Train_data , \n",
    "                           validation_data=Validation_data, \n",
    "                           epochs= 15 , \n",
    "                           verbose=1 , \n",
    "                           steps_per_epoch=8 , \n",
    "                           validation_steps=8)"
   ]
  },
  {
   "cell_type": "code",
   "execution_count": 55,
   "metadata": {},
   "outputs": [
    {
     "name": "stdout",
     "output_type": "stream",
     "text": [
      "(1, 300, 300, 3)\n",
      "1/1 [==============================] - 0s 19ms/step\n",
      "is a horse\n"
     ]
    }
   ],
   "source": [
    "\n",
    "img = ks.utils.load_img(\"./Data/01-64.jpg\" , target_size=(300,300))\n",
    "a = ks.utils.img_to_array(img)\n",
    "a = np.expand_dims(a , axis=0)\n",
    "print(a.shape)\n",
    "a /= 255\n",
    "\n",
    "\n",
    "classes = model.predict(a)\n",
    "\n",
    "\n",
    "if classes[0]>0.5:\n",
    "    print(\"it is a human\")\n",
    "else:\n",
    "    print(\"it is a horse\")"
   ]
  }
 ],
 "metadata": {
  "kernelspec": {
   "display_name": "Python 3",
   "language": "python",
   "name": "python3"
  },
  "language_info": {
   "codemirror_mode": {
    "name": "ipython",
    "version": 3
   },
   "file_extension": ".py",
   "mimetype": "text/x-python",
   "name": "python",
   "nbconvert_exporter": "python",
   "pygments_lexer": "ipython3",
   "version": "3.10.7"
  },
  "orig_nbformat": 4
 },
 "nbformat": 4,
 "nbformat_minor": 2
}
